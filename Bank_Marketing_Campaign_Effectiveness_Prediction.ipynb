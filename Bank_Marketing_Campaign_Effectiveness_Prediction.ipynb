{
  "nbformat": 4,
  "nbformat_minor": 0,
  "metadata": {
    "colab": {
      "name": "Bank Marketing Campaign Effectiveness Prediction.ipynb",
      "provenance": [],
      "collapsed_sections": []
    },
    "kernelspec": {
      "name": "python3",
      "display_name": "Python 3"
    },
    "language_info": {
      "name": "python"
    }
  },
  "cells": [
    {
      "cell_type": "code",
      "metadata": {
        "id": "krVbTsh5QU0l"
      },
      "source": [
        "import numpy as np\n",
        "import pandas as pd\n",
        "from scipy import stats\n",
        "from sklearn.preprocessing import OrdinalEncoder\n",
        "from sklearn.preprocessing import StandardScaler\n",
        "import matplotlib.pyplot as plt\n",
        "from sklearn.model_selection import train_test_split\n",
        "from sklearn.neural_network import MLPClassifier\n",
        "from sklearn import metrics\n",
        "from sklearn.decomposition import PCA"
      ],
      "execution_count": 22,
      "outputs": []
    },
    {
      "cell_type": "code",
      "metadata": {
        "colab": {
          "base_uri": "https://localhost:8080/"
        },
        "id": "Kc-K_fDAQoIj",
        "outputId": "76df9f6b-d054-4225-b94b-c61b04f7e1b0"
      },
      "source": [
        "from google.colab import drive\n",
        "drive.mount(\"/content/gdrive\")"
      ],
      "execution_count": 23,
      "outputs": [
        {
          "output_type": "stream",
          "text": [
            "Drive already mounted at /content/gdrive; to attempt to forcibly remount, call drive.mount(\"/content/gdrive\", force_remount=True).\n"
          ],
          "name": "stdout"
        }
      ]
    },
    {
      "cell_type": "code",
      "metadata": {
        "colab": {
          "base_uri": "https://localhost:8080/",
          "height": 204
        },
        "id": "mlk-x1tBRAh6",
        "outputId": "01c234ee-ea2d-4b41-a0dd-a4e7ba4562ec"
      },
      "source": [
        "data = pd.read_csv(\"/content/gdrive/My Drive/Colab Notebooks/data/bank-full.csv\", sep=';' )\n",
        "data.head(5)"
      ],
      "execution_count": 24,
      "outputs": [
        {
          "output_type": "execute_result",
          "data": {
            "text/html": [
              "<div>\n",
              "<style scoped>\n",
              "    .dataframe tbody tr th:only-of-type {\n",
              "        vertical-align: middle;\n",
              "    }\n",
              "\n",
              "    .dataframe tbody tr th {\n",
              "        vertical-align: top;\n",
              "    }\n",
              "\n",
              "    .dataframe thead th {\n",
              "        text-align: right;\n",
              "    }\n",
              "</style>\n",
              "<table border=\"1\" class=\"dataframe\">\n",
              "  <thead>\n",
              "    <tr style=\"text-align: right;\">\n",
              "      <th></th>\n",
              "      <th>age</th>\n",
              "      <th>job</th>\n",
              "      <th>marital</th>\n",
              "      <th>education</th>\n",
              "      <th>default</th>\n",
              "      <th>balance</th>\n",
              "      <th>housing</th>\n",
              "      <th>loan</th>\n",
              "      <th>contact</th>\n",
              "      <th>day</th>\n",
              "      <th>month</th>\n",
              "      <th>duration</th>\n",
              "      <th>campaign</th>\n",
              "      <th>pdays</th>\n",
              "      <th>previous</th>\n",
              "      <th>poutcome</th>\n",
              "      <th>y</th>\n",
              "    </tr>\n",
              "  </thead>\n",
              "  <tbody>\n",
              "    <tr>\n",
              "      <th>0</th>\n",
              "      <td>58</td>\n",
              "      <td>management</td>\n",
              "      <td>married</td>\n",
              "      <td>tertiary</td>\n",
              "      <td>no</td>\n",
              "      <td>2143</td>\n",
              "      <td>yes</td>\n",
              "      <td>no</td>\n",
              "      <td>unknown</td>\n",
              "      <td>5</td>\n",
              "      <td>may</td>\n",
              "      <td>261</td>\n",
              "      <td>1</td>\n",
              "      <td>-1</td>\n",
              "      <td>0</td>\n",
              "      <td>unknown</td>\n",
              "      <td>no</td>\n",
              "    </tr>\n",
              "    <tr>\n",
              "      <th>1</th>\n",
              "      <td>44</td>\n",
              "      <td>technician</td>\n",
              "      <td>single</td>\n",
              "      <td>secondary</td>\n",
              "      <td>no</td>\n",
              "      <td>29</td>\n",
              "      <td>yes</td>\n",
              "      <td>no</td>\n",
              "      <td>unknown</td>\n",
              "      <td>5</td>\n",
              "      <td>may</td>\n",
              "      <td>151</td>\n",
              "      <td>1</td>\n",
              "      <td>-1</td>\n",
              "      <td>0</td>\n",
              "      <td>unknown</td>\n",
              "      <td>no</td>\n",
              "    </tr>\n",
              "    <tr>\n",
              "      <th>2</th>\n",
              "      <td>33</td>\n",
              "      <td>entrepreneur</td>\n",
              "      <td>married</td>\n",
              "      <td>secondary</td>\n",
              "      <td>no</td>\n",
              "      <td>2</td>\n",
              "      <td>yes</td>\n",
              "      <td>yes</td>\n",
              "      <td>unknown</td>\n",
              "      <td>5</td>\n",
              "      <td>may</td>\n",
              "      <td>76</td>\n",
              "      <td>1</td>\n",
              "      <td>-1</td>\n",
              "      <td>0</td>\n",
              "      <td>unknown</td>\n",
              "      <td>no</td>\n",
              "    </tr>\n",
              "    <tr>\n",
              "      <th>3</th>\n",
              "      <td>47</td>\n",
              "      <td>blue-collar</td>\n",
              "      <td>married</td>\n",
              "      <td>unknown</td>\n",
              "      <td>no</td>\n",
              "      <td>1506</td>\n",
              "      <td>yes</td>\n",
              "      <td>no</td>\n",
              "      <td>unknown</td>\n",
              "      <td>5</td>\n",
              "      <td>may</td>\n",
              "      <td>92</td>\n",
              "      <td>1</td>\n",
              "      <td>-1</td>\n",
              "      <td>0</td>\n",
              "      <td>unknown</td>\n",
              "      <td>no</td>\n",
              "    </tr>\n",
              "    <tr>\n",
              "      <th>4</th>\n",
              "      <td>33</td>\n",
              "      <td>unknown</td>\n",
              "      <td>single</td>\n",
              "      <td>unknown</td>\n",
              "      <td>no</td>\n",
              "      <td>1</td>\n",
              "      <td>no</td>\n",
              "      <td>no</td>\n",
              "      <td>unknown</td>\n",
              "      <td>5</td>\n",
              "      <td>may</td>\n",
              "      <td>198</td>\n",
              "      <td>1</td>\n",
              "      <td>-1</td>\n",
              "      <td>0</td>\n",
              "      <td>unknown</td>\n",
              "      <td>no</td>\n",
              "    </tr>\n",
              "  </tbody>\n",
              "</table>\n",
              "</div>"
            ],
            "text/plain": [
              "   age           job  marital  education  ... pdays  previous poutcome   y\n",
              "0   58    management  married   tertiary  ...    -1         0  unknown  no\n",
              "1   44    technician   single  secondary  ...    -1         0  unknown  no\n",
              "2   33  entrepreneur  married  secondary  ...    -1         0  unknown  no\n",
              "3   47   blue-collar  married    unknown  ...    -1         0  unknown  no\n",
              "4   33       unknown   single    unknown  ...    -1         0  unknown  no\n",
              "\n",
              "[5 rows x 17 columns]"
            ]
          },
          "metadata": {
            "tags": []
          },
          "execution_count": 24
        }
      ]
    },
    {
      "cell_type": "markdown",
      "metadata": {
        "id": "P5thAWXS1-6E"
      },
      "source": [
        "**Looking for missing values**\n",
        "\n",
        "\n"
      ]
    },
    {
      "cell_type": "code",
      "metadata": {
        "colab": {
          "base_uri": "https://localhost:8080/"
        },
        "id": "XM1x8IAP2HqJ",
        "outputId": "0563d3a5-fd37-4056-b12d-d4b34ded32ea"
      },
      "source": [
        "missing_values = data.isnull().mean()*100\n",
        "missing_values.sum()"
      ],
      "execution_count": 25,
      "outputs": [
        {
          "output_type": "execute_result",
          "data": {
            "text/plain": [
              "0.0"
            ]
          },
          "metadata": {
            "tags": []
          },
          "execution_count": 25
        }
      ]
    },
    {
      "cell_type": "markdown",
      "metadata": {
        "id": "JOCDpv3TjWl2"
      },
      "source": [
        "**Checking for duplicate values**\n",
        "\n"
      ]
    },
    {
      "cell_type": "code",
      "metadata": {
        "id": "IbpJg3XSqO4p",
        "colab": {
          "base_uri": "https://localhost:8080/"
        },
        "outputId": "9ae651aa-a4d6-4ca1-e6b9-cf44b75e8706"
      },
      "source": [
        "duplicateValues = data.duplicated().any()\n",
        "if duplicateValues:\n",
        "  print(\"Duplicate values present\")\n",
        "else:\n",
        "  print(\"No duplicate values present\")\n",
        "\n"
      ],
      "execution_count": 26,
      "outputs": [
        {
          "output_type": "stream",
          "text": [
            "No duplicate values present\n"
          ],
          "name": "stdout"
        }
      ]
    },
    {
      "cell_type": "code",
      "metadata": {
        "colab": {
          "base_uri": "https://localhost:8080/"
        },
        "id": "HTI3Qiaoz83h",
        "outputId": "7f515da9-6d7c-4462-b397-60433488d811"
      },
      "source": [
        "data.info()"
      ],
      "execution_count": 27,
      "outputs": [
        {
          "output_type": "stream",
          "text": [
            "<class 'pandas.core.frame.DataFrame'>\n",
            "RangeIndex: 45211 entries, 0 to 45210\n",
            "Data columns (total 17 columns):\n",
            " #   Column     Non-Null Count  Dtype \n",
            "---  ------     --------------  ----- \n",
            " 0   age        45211 non-null  int64 \n",
            " 1   job        45211 non-null  object\n",
            " 2   marital    45211 non-null  object\n",
            " 3   education  45211 non-null  object\n",
            " 4   default    45211 non-null  object\n",
            " 5   balance    45211 non-null  int64 \n",
            " 6   housing    45211 non-null  object\n",
            " 7   loan       45211 non-null  object\n",
            " 8   contact    45211 non-null  object\n",
            " 9   day        45211 non-null  int64 \n",
            " 10  month      45211 non-null  object\n",
            " 11  duration   45211 non-null  int64 \n",
            " 12  campaign   45211 non-null  int64 \n",
            " 13  pdays      45211 non-null  int64 \n",
            " 14  previous   45211 non-null  int64 \n",
            " 15  poutcome   45211 non-null  object\n",
            " 16  y          45211 non-null  object\n",
            "dtypes: int64(7), object(10)\n",
            "memory usage: 5.9+ MB\n"
          ],
          "name": "stdout"
        }
      ]
    },
    {
      "cell_type": "markdown",
      "metadata": {
        "id": "Isow2N_L9_qH"
      },
      "source": [
        "**Detecting and removing outliers (Z-score method)**\n",
        "\n"
      ]
    },
    {
      "cell_type": "code",
      "metadata": {
        "colab": {
          "base_uri": "https://localhost:8080/"
        },
        "id": "ekTqsFz8-F-g",
        "outputId": "5b218edc-f2b3-429a-d21f-66b411ae663f"
      },
      "source": [
        "\n",
        "numerical_features = data.dtypes==np.int64\n",
        "numerical_col = data.columns[numerical_features].tolist()\n",
        "\n",
        "#calculating the z-score\n",
        "z = np.abs(stats.zscore(data[numerical_col]))\n",
        "z\n"
      ],
      "execution_count": 28,
      "outputs": [
        {
          "output_type": "execute_result",
          "data": {
            "text/plain": [
              "array([[1.60696496, 0.25641925, 1.29847633, ..., 0.56935064, 0.41145311,\n",
              "        0.25194037],\n",
              "       [0.28852927, 0.43789469, 1.29847633, ..., 0.56935064, 0.41145311,\n",
              "        0.25194037],\n",
              "       [0.74738448, 0.44676247, 1.29847633, ..., 0.56935064, 0.41145311,\n",
              "        0.25194037],\n",
              "       ...,\n",
              "       [2.92540065, 1.42959305, 0.14341818, ..., 0.72181052, 1.43618859,\n",
              "        1.05047333],\n",
              "       [1.51279098, 0.22802402, 0.14341818, ..., 0.39902023, 0.41145311,\n",
              "        0.25194037],\n",
              "       [0.37068857, 0.52836436, 0.14341818, ..., 0.24656035, 1.4761376 ,\n",
              "        4.52357654]])"
            ]
          },
          "metadata": {
            "tags": []
          },
          "execution_count": 28
        }
      ]
    },
    {
      "cell_type": "code",
      "metadata": {
        "colab": {
          "base_uri": "https://localhost:8080/"
        },
        "id": "a9oZC5Y2B6Wt",
        "outputId": "d933bb80-7001-41f4-fc73-93438b65d196"
      },
      "source": [
        "#detecting the outliers\n",
        "threshholdValue = 3\n",
        "print(np.where(z>3))"
      ],
      "execution_count": 29,
      "outputs": [
        {
          "output_type": "stream",
          "text": [
            "(array([   34,    37,    43, ..., 45204, 45208, 45210]), array([1, 3, 3, ..., 6, 3, 6]))\n"
          ],
          "name": "stdout"
        }
      ]
    },
    {
      "cell_type": "code",
      "metadata": {
        "colab": {
          "base_uri": "https://localhost:8080/"
        },
        "id": "QkyFGo_SCaKw",
        "outputId": "9373fdbb-5df6-4337-8ca4-4619f352ffba"
      },
      "source": [
        "#removing the outliers\n",
        "\n",
        "data = data[(z < 3).all(axis=1)]\n",
        "data.shape"
      ],
      "execution_count": 30,
      "outputs": [
        {
          "output_type": "execute_result",
          "data": {
            "text/plain": [
              "(40209, 17)"
            ]
          },
          "metadata": {
            "tags": []
          },
          "execution_count": 30
        }
      ]
    },
    {
      "cell_type": "markdown",
      "metadata": {
        "id": "R_zpBqbtH53l"
      },
      "source": [
        "**Convert binary features to numeric**\n",
        "\n"
      ]
    },
    {
      "cell_type": "code",
      "metadata": {
        "colab": {
          "base_uri": "https://localhost:8080/",
          "height": 204
        },
        "id": "N8IsJPu4IAOk",
        "outputId": "f3c80d85-1c5a-4b0e-c647-ff96be1e7a5d"
      },
      "source": [
        "data.replace({'no':0,'yes':1}, inplace=True)\n",
        "data.head()\n"
      ],
      "execution_count": 31,
      "outputs": [
        {
          "output_type": "execute_result",
          "data": {
            "text/html": [
              "<div>\n",
              "<style scoped>\n",
              "    .dataframe tbody tr th:only-of-type {\n",
              "        vertical-align: middle;\n",
              "    }\n",
              "\n",
              "    .dataframe tbody tr th {\n",
              "        vertical-align: top;\n",
              "    }\n",
              "\n",
              "    .dataframe thead th {\n",
              "        text-align: right;\n",
              "    }\n",
              "</style>\n",
              "<table border=\"1\" class=\"dataframe\">\n",
              "  <thead>\n",
              "    <tr style=\"text-align: right;\">\n",
              "      <th></th>\n",
              "      <th>age</th>\n",
              "      <th>job</th>\n",
              "      <th>marital</th>\n",
              "      <th>education</th>\n",
              "      <th>default</th>\n",
              "      <th>balance</th>\n",
              "      <th>housing</th>\n",
              "      <th>loan</th>\n",
              "      <th>contact</th>\n",
              "      <th>day</th>\n",
              "      <th>month</th>\n",
              "      <th>duration</th>\n",
              "      <th>campaign</th>\n",
              "      <th>pdays</th>\n",
              "      <th>previous</th>\n",
              "      <th>poutcome</th>\n",
              "      <th>y</th>\n",
              "    </tr>\n",
              "  </thead>\n",
              "  <tbody>\n",
              "    <tr>\n",
              "      <th>0</th>\n",
              "      <td>58</td>\n",
              "      <td>management</td>\n",
              "      <td>married</td>\n",
              "      <td>tertiary</td>\n",
              "      <td>0</td>\n",
              "      <td>2143</td>\n",
              "      <td>1</td>\n",
              "      <td>0</td>\n",
              "      <td>unknown</td>\n",
              "      <td>5</td>\n",
              "      <td>may</td>\n",
              "      <td>261</td>\n",
              "      <td>1</td>\n",
              "      <td>-1</td>\n",
              "      <td>0</td>\n",
              "      <td>unknown</td>\n",
              "      <td>0</td>\n",
              "    </tr>\n",
              "    <tr>\n",
              "      <th>1</th>\n",
              "      <td>44</td>\n",
              "      <td>technician</td>\n",
              "      <td>single</td>\n",
              "      <td>secondary</td>\n",
              "      <td>0</td>\n",
              "      <td>29</td>\n",
              "      <td>1</td>\n",
              "      <td>0</td>\n",
              "      <td>unknown</td>\n",
              "      <td>5</td>\n",
              "      <td>may</td>\n",
              "      <td>151</td>\n",
              "      <td>1</td>\n",
              "      <td>-1</td>\n",
              "      <td>0</td>\n",
              "      <td>unknown</td>\n",
              "      <td>0</td>\n",
              "    </tr>\n",
              "    <tr>\n",
              "      <th>2</th>\n",
              "      <td>33</td>\n",
              "      <td>entrepreneur</td>\n",
              "      <td>married</td>\n",
              "      <td>secondary</td>\n",
              "      <td>0</td>\n",
              "      <td>2</td>\n",
              "      <td>1</td>\n",
              "      <td>1</td>\n",
              "      <td>unknown</td>\n",
              "      <td>5</td>\n",
              "      <td>may</td>\n",
              "      <td>76</td>\n",
              "      <td>1</td>\n",
              "      <td>-1</td>\n",
              "      <td>0</td>\n",
              "      <td>unknown</td>\n",
              "      <td>0</td>\n",
              "    </tr>\n",
              "    <tr>\n",
              "      <th>3</th>\n",
              "      <td>47</td>\n",
              "      <td>blue-collar</td>\n",
              "      <td>married</td>\n",
              "      <td>unknown</td>\n",
              "      <td>0</td>\n",
              "      <td>1506</td>\n",
              "      <td>1</td>\n",
              "      <td>0</td>\n",
              "      <td>unknown</td>\n",
              "      <td>5</td>\n",
              "      <td>may</td>\n",
              "      <td>92</td>\n",
              "      <td>1</td>\n",
              "      <td>-1</td>\n",
              "      <td>0</td>\n",
              "      <td>unknown</td>\n",
              "      <td>0</td>\n",
              "    </tr>\n",
              "    <tr>\n",
              "      <th>4</th>\n",
              "      <td>33</td>\n",
              "      <td>unknown</td>\n",
              "      <td>single</td>\n",
              "      <td>unknown</td>\n",
              "      <td>0</td>\n",
              "      <td>1</td>\n",
              "      <td>0</td>\n",
              "      <td>0</td>\n",
              "      <td>unknown</td>\n",
              "      <td>5</td>\n",
              "      <td>may</td>\n",
              "      <td>198</td>\n",
              "      <td>1</td>\n",
              "      <td>-1</td>\n",
              "      <td>0</td>\n",
              "      <td>unknown</td>\n",
              "      <td>0</td>\n",
              "    </tr>\n",
              "  </tbody>\n",
              "</table>\n",
              "</div>"
            ],
            "text/plain": [
              "   age           job  marital  education  ...  pdays  previous  poutcome  y\n",
              "0   58    management  married   tertiary  ...     -1         0   unknown  0\n",
              "1   44    technician   single  secondary  ...     -1         0   unknown  0\n",
              "2   33  entrepreneur  married  secondary  ...     -1         0   unknown  0\n",
              "3   47   blue-collar  married    unknown  ...     -1         0   unknown  0\n",
              "4   33       unknown   single    unknown  ...     -1         0   unknown  0\n",
              "\n",
              "[5 rows x 17 columns]"
            ]
          },
          "metadata": {
            "tags": []
          },
          "execution_count": 31
        }
      ]
    },
    {
      "cell_type": "markdown",
      "metadata": {
        "id": "AM1_QkDPSaB3"
      },
      "source": [
        "**Encoding categorical values in the dataset**\n",
        "\n"
      ]
    },
    {
      "cell_type": "code",
      "metadata": {
        "colab": {
          "base_uri": "https://localhost:8080/",
          "height": 204
        },
        "id": "s3b95uoKkVKp",
        "outputId": "c8270d30-0ec4-4fab-fbf2-6c631ea94016"
      },
      "source": [
        "\n",
        "\n",
        "ord_enc = OrdinalEncoder()\n",
        "data['job_cat'] = ord_enc.fit_transform(data[[\"job\"]])\n",
        "data['marital_cat'] = ord_enc.fit_transform(data[[\"marital\"]])\n",
        "data['education_cat'] = ord_enc.fit_transform(data[[\"education\"]])\n",
        "data['contact_cat'] = ord_enc.fit_transform(data[[\"contact\"]])\n",
        "data['month_cat'] = ord_enc.fit_transform(data[[\"month\"]])\n",
        "data['poutcome_cat'] = ord_enc.fit_transform(data[[\"poutcome\"]])\n",
        "\n",
        "\n",
        "data[['job','job_cat']].head(5)\n",
        "\n",
        "\n",
        "\n"
      ],
      "execution_count": 32,
      "outputs": [
        {
          "output_type": "execute_result",
          "data": {
            "text/html": [
              "<div>\n",
              "<style scoped>\n",
              "    .dataframe tbody tr th:only-of-type {\n",
              "        vertical-align: middle;\n",
              "    }\n",
              "\n",
              "    .dataframe tbody tr th {\n",
              "        vertical-align: top;\n",
              "    }\n",
              "\n",
              "    .dataframe thead th {\n",
              "        text-align: right;\n",
              "    }\n",
              "</style>\n",
              "<table border=\"1\" class=\"dataframe\">\n",
              "  <thead>\n",
              "    <tr style=\"text-align: right;\">\n",
              "      <th></th>\n",
              "      <th>job</th>\n",
              "      <th>job_cat</th>\n",
              "    </tr>\n",
              "  </thead>\n",
              "  <tbody>\n",
              "    <tr>\n",
              "      <th>0</th>\n",
              "      <td>management</td>\n",
              "      <td>4.0</td>\n",
              "    </tr>\n",
              "    <tr>\n",
              "      <th>1</th>\n",
              "      <td>technician</td>\n",
              "      <td>9.0</td>\n",
              "    </tr>\n",
              "    <tr>\n",
              "      <th>2</th>\n",
              "      <td>entrepreneur</td>\n",
              "      <td>2.0</td>\n",
              "    </tr>\n",
              "    <tr>\n",
              "      <th>3</th>\n",
              "      <td>blue-collar</td>\n",
              "      <td>1.0</td>\n",
              "    </tr>\n",
              "    <tr>\n",
              "      <th>4</th>\n",
              "      <td>unknown</td>\n",
              "      <td>11.0</td>\n",
              "    </tr>\n",
              "  </tbody>\n",
              "</table>\n",
              "</div>"
            ],
            "text/plain": [
              "            job  job_cat\n",
              "0    management      4.0\n",
              "1    technician      9.0\n",
              "2  entrepreneur      2.0\n",
              "3   blue-collar      1.0\n",
              "4       unknown     11.0"
            ]
          },
          "metadata": {
            "tags": []
          },
          "execution_count": 32
        }
      ]
    },
    {
      "cell_type": "code",
      "metadata": {
        "colab": {
          "base_uri": "https://localhost:8080/",
          "height": 224
        },
        "id": "4xnIe3nppuIa",
        "outputId": "670c2e1f-c1e7-4a1e-bb80-3d7efb26a57e"
      },
      "source": [
        "data.head()"
      ],
      "execution_count": 33,
      "outputs": [
        {
          "output_type": "execute_result",
          "data": {
            "text/html": [
              "<div>\n",
              "<style scoped>\n",
              "    .dataframe tbody tr th:only-of-type {\n",
              "        vertical-align: middle;\n",
              "    }\n",
              "\n",
              "    .dataframe tbody tr th {\n",
              "        vertical-align: top;\n",
              "    }\n",
              "\n",
              "    .dataframe thead th {\n",
              "        text-align: right;\n",
              "    }\n",
              "</style>\n",
              "<table border=\"1\" class=\"dataframe\">\n",
              "  <thead>\n",
              "    <tr style=\"text-align: right;\">\n",
              "      <th></th>\n",
              "      <th>age</th>\n",
              "      <th>job</th>\n",
              "      <th>marital</th>\n",
              "      <th>education</th>\n",
              "      <th>default</th>\n",
              "      <th>balance</th>\n",
              "      <th>housing</th>\n",
              "      <th>loan</th>\n",
              "      <th>contact</th>\n",
              "      <th>day</th>\n",
              "      <th>month</th>\n",
              "      <th>duration</th>\n",
              "      <th>campaign</th>\n",
              "      <th>pdays</th>\n",
              "      <th>previous</th>\n",
              "      <th>poutcome</th>\n",
              "      <th>y</th>\n",
              "      <th>job_cat</th>\n",
              "      <th>marital_cat</th>\n",
              "      <th>education_cat</th>\n",
              "      <th>contact_cat</th>\n",
              "      <th>month_cat</th>\n",
              "      <th>poutcome_cat</th>\n",
              "    </tr>\n",
              "  </thead>\n",
              "  <tbody>\n",
              "    <tr>\n",
              "      <th>0</th>\n",
              "      <td>58</td>\n",
              "      <td>management</td>\n",
              "      <td>married</td>\n",
              "      <td>tertiary</td>\n",
              "      <td>0</td>\n",
              "      <td>2143</td>\n",
              "      <td>1</td>\n",
              "      <td>0</td>\n",
              "      <td>unknown</td>\n",
              "      <td>5</td>\n",
              "      <td>may</td>\n",
              "      <td>261</td>\n",
              "      <td>1</td>\n",
              "      <td>-1</td>\n",
              "      <td>0</td>\n",
              "      <td>unknown</td>\n",
              "      <td>0</td>\n",
              "      <td>4.0</td>\n",
              "      <td>1.0</td>\n",
              "      <td>2.0</td>\n",
              "      <td>2.0</td>\n",
              "      <td>8.0</td>\n",
              "      <td>3.0</td>\n",
              "    </tr>\n",
              "    <tr>\n",
              "      <th>1</th>\n",
              "      <td>44</td>\n",
              "      <td>technician</td>\n",
              "      <td>single</td>\n",
              "      <td>secondary</td>\n",
              "      <td>0</td>\n",
              "      <td>29</td>\n",
              "      <td>1</td>\n",
              "      <td>0</td>\n",
              "      <td>unknown</td>\n",
              "      <td>5</td>\n",
              "      <td>may</td>\n",
              "      <td>151</td>\n",
              "      <td>1</td>\n",
              "      <td>-1</td>\n",
              "      <td>0</td>\n",
              "      <td>unknown</td>\n",
              "      <td>0</td>\n",
              "      <td>9.0</td>\n",
              "      <td>2.0</td>\n",
              "      <td>1.0</td>\n",
              "      <td>2.0</td>\n",
              "      <td>8.0</td>\n",
              "      <td>3.0</td>\n",
              "    </tr>\n",
              "    <tr>\n",
              "      <th>2</th>\n",
              "      <td>33</td>\n",
              "      <td>entrepreneur</td>\n",
              "      <td>married</td>\n",
              "      <td>secondary</td>\n",
              "      <td>0</td>\n",
              "      <td>2</td>\n",
              "      <td>1</td>\n",
              "      <td>1</td>\n",
              "      <td>unknown</td>\n",
              "      <td>5</td>\n",
              "      <td>may</td>\n",
              "      <td>76</td>\n",
              "      <td>1</td>\n",
              "      <td>-1</td>\n",
              "      <td>0</td>\n",
              "      <td>unknown</td>\n",
              "      <td>0</td>\n",
              "      <td>2.0</td>\n",
              "      <td>1.0</td>\n",
              "      <td>1.0</td>\n",
              "      <td>2.0</td>\n",
              "      <td>8.0</td>\n",
              "      <td>3.0</td>\n",
              "    </tr>\n",
              "    <tr>\n",
              "      <th>3</th>\n",
              "      <td>47</td>\n",
              "      <td>blue-collar</td>\n",
              "      <td>married</td>\n",
              "      <td>unknown</td>\n",
              "      <td>0</td>\n",
              "      <td>1506</td>\n",
              "      <td>1</td>\n",
              "      <td>0</td>\n",
              "      <td>unknown</td>\n",
              "      <td>5</td>\n",
              "      <td>may</td>\n",
              "      <td>92</td>\n",
              "      <td>1</td>\n",
              "      <td>-1</td>\n",
              "      <td>0</td>\n",
              "      <td>unknown</td>\n",
              "      <td>0</td>\n",
              "      <td>1.0</td>\n",
              "      <td>1.0</td>\n",
              "      <td>3.0</td>\n",
              "      <td>2.0</td>\n",
              "      <td>8.0</td>\n",
              "      <td>3.0</td>\n",
              "    </tr>\n",
              "    <tr>\n",
              "      <th>4</th>\n",
              "      <td>33</td>\n",
              "      <td>unknown</td>\n",
              "      <td>single</td>\n",
              "      <td>unknown</td>\n",
              "      <td>0</td>\n",
              "      <td>1</td>\n",
              "      <td>0</td>\n",
              "      <td>0</td>\n",
              "      <td>unknown</td>\n",
              "      <td>5</td>\n",
              "      <td>may</td>\n",
              "      <td>198</td>\n",
              "      <td>1</td>\n",
              "      <td>-1</td>\n",
              "      <td>0</td>\n",
              "      <td>unknown</td>\n",
              "      <td>0</td>\n",
              "      <td>11.0</td>\n",
              "      <td>2.0</td>\n",
              "      <td>3.0</td>\n",
              "      <td>2.0</td>\n",
              "      <td>8.0</td>\n",
              "      <td>3.0</td>\n",
              "    </tr>\n",
              "  </tbody>\n",
              "</table>\n",
              "</div>"
            ],
            "text/plain": [
              "   age           job  marital  ... contact_cat  month_cat  poutcome_cat\n",
              "0   58    management  married  ...         2.0        8.0           3.0\n",
              "1   44    technician   single  ...         2.0        8.0           3.0\n",
              "2   33  entrepreneur  married  ...         2.0        8.0           3.0\n",
              "3   47   blue-collar  married  ...         2.0        8.0           3.0\n",
              "4   33       unknown   single  ...         2.0        8.0           3.0\n",
              "\n",
              "[5 rows x 23 columns]"
            ]
          },
          "metadata": {
            "tags": []
          },
          "execution_count": 33
        }
      ]
    },
    {
      "cell_type": "markdown",
      "metadata": {
        "id": "5UjnSKSySj9e"
      },
      "source": [
        "**Dropping the categorical columns**\n",
        "\n"
      ]
    },
    {
      "cell_type": "code",
      "metadata": {
        "colab": {
          "base_uri": "https://localhost:8080/",
          "height": 204
        },
        "id": "LJAtr2YPcgVT",
        "outputId": "86304574-bcc0-4b3f-ff57-b1bdc96efa1f"
      },
      "source": [
        "data = data.drop(['job','marital','education','contact','month','duration','poutcome'], axis=1)\n",
        "data.head()"
      ],
      "execution_count": 34,
      "outputs": [
        {
          "output_type": "execute_result",
          "data": {
            "text/html": [
              "<div>\n",
              "<style scoped>\n",
              "    .dataframe tbody tr th:only-of-type {\n",
              "        vertical-align: middle;\n",
              "    }\n",
              "\n",
              "    .dataframe tbody tr th {\n",
              "        vertical-align: top;\n",
              "    }\n",
              "\n",
              "    .dataframe thead th {\n",
              "        text-align: right;\n",
              "    }\n",
              "</style>\n",
              "<table border=\"1\" class=\"dataframe\">\n",
              "  <thead>\n",
              "    <tr style=\"text-align: right;\">\n",
              "      <th></th>\n",
              "      <th>age</th>\n",
              "      <th>default</th>\n",
              "      <th>balance</th>\n",
              "      <th>housing</th>\n",
              "      <th>loan</th>\n",
              "      <th>day</th>\n",
              "      <th>campaign</th>\n",
              "      <th>pdays</th>\n",
              "      <th>previous</th>\n",
              "      <th>y</th>\n",
              "      <th>job_cat</th>\n",
              "      <th>marital_cat</th>\n",
              "      <th>education_cat</th>\n",
              "      <th>contact_cat</th>\n",
              "      <th>month_cat</th>\n",
              "      <th>poutcome_cat</th>\n",
              "    </tr>\n",
              "  </thead>\n",
              "  <tbody>\n",
              "    <tr>\n",
              "      <th>0</th>\n",
              "      <td>58</td>\n",
              "      <td>0</td>\n",
              "      <td>2143</td>\n",
              "      <td>1</td>\n",
              "      <td>0</td>\n",
              "      <td>5</td>\n",
              "      <td>1</td>\n",
              "      <td>-1</td>\n",
              "      <td>0</td>\n",
              "      <td>0</td>\n",
              "      <td>4.0</td>\n",
              "      <td>1.0</td>\n",
              "      <td>2.0</td>\n",
              "      <td>2.0</td>\n",
              "      <td>8.0</td>\n",
              "      <td>3.0</td>\n",
              "    </tr>\n",
              "    <tr>\n",
              "      <th>1</th>\n",
              "      <td>44</td>\n",
              "      <td>0</td>\n",
              "      <td>29</td>\n",
              "      <td>1</td>\n",
              "      <td>0</td>\n",
              "      <td>5</td>\n",
              "      <td>1</td>\n",
              "      <td>-1</td>\n",
              "      <td>0</td>\n",
              "      <td>0</td>\n",
              "      <td>9.0</td>\n",
              "      <td>2.0</td>\n",
              "      <td>1.0</td>\n",
              "      <td>2.0</td>\n",
              "      <td>8.0</td>\n",
              "      <td>3.0</td>\n",
              "    </tr>\n",
              "    <tr>\n",
              "      <th>2</th>\n",
              "      <td>33</td>\n",
              "      <td>0</td>\n",
              "      <td>2</td>\n",
              "      <td>1</td>\n",
              "      <td>1</td>\n",
              "      <td>5</td>\n",
              "      <td>1</td>\n",
              "      <td>-1</td>\n",
              "      <td>0</td>\n",
              "      <td>0</td>\n",
              "      <td>2.0</td>\n",
              "      <td>1.0</td>\n",
              "      <td>1.0</td>\n",
              "      <td>2.0</td>\n",
              "      <td>8.0</td>\n",
              "      <td>3.0</td>\n",
              "    </tr>\n",
              "    <tr>\n",
              "      <th>3</th>\n",
              "      <td>47</td>\n",
              "      <td>0</td>\n",
              "      <td>1506</td>\n",
              "      <td>1</td>\n",
              "      <td>0</td>\n",
              "      <td>5</td>\n",
              "      <td>1</td>\n",
              "      <td>-1</td>\n",
              "      <td>0</td>\n",
              "      <td>0</td>\n",
              "      <td>1.0</td>\n",
              "      <td>1.0</td>\n",
              "      <td>3.0</td>\n",
              "      <td>2.0</td>\n",
              "      <td>8.0</td>\n",
              "      <td>3.0</td>\n",
              "    </tr>\n",
              "    <tr>\n",
              "      <th>4</th>\n",
              "      <td>33</td>\n",
              "      <td>0</td>\n",
              "      <td>1</td>\n",
              "      <td>0</td>\n",
              "      <td>0</td>\n",
              "      <td>5</td>\n",
              "      <td>1</td>\n",
              "      <td>-1</td>\n",
              "      <td>0</td>\n",
              "      <td>0</td>\n",
              "      <td>11.0</td>\n",
              "      <td>2.0</td>\n",
              "      <td>3.0</td>\n",
              "      <td>2.0</td>\n",
              "      <td>8.0</td>\n",
              "      <td>3.0</td>\n",
              "    </tr>\n",
              "  </tbody>\n",
              "</table>\n",
              "</div>"
            ],
            "text/plain": [
              "   age  default  balance  ...  contact_cat  month_cat  poutcome_cat\n",
              "0   58        0     2143  ...          2.0        8.0           3.0\n",
              "1   44        0       29  ...          2.0        8.0           3.0\n",
              "2   33        0        2  ...          2.0        8.0           3.0\n",
              "3   47        0     1506  ...          2.0        8.0           3.0\n",
              "4   33        0        1  ...          2.0        8.0           3.0\n",
              "\n",
              "[5 rows x 16 columns]"
            ]
          },
          "metadata": {
            "tags": []
          },
          "execution_count": 34
        }
      ]
    },
    {
      "cell_type": "markdown",
      "metadata": {
        "id": "2noZMFYvtxPk"
      },
      "source": [
        ""
      ]
    },
    {
      "cell_type": "code",
      "metadata": {
        "colab": {
          "base_uri": "https://localhost:8080/",
          "height": 317
        },
        "id": "qFJDPSFecbPU",
        "outputId": "2b88b060-8fde-47ac-9e95-b7c69d3e4f26"
      },
      "source": [
        "data.describe()\n"
      ],
      "execution_count": 35,
      "outputs": [
        {
          "output_type": "execute_result",
          "data": {
            "text/html": [
              "<div>\n",
              "<style scoped>\n",
              "    .dataframe tbody tr th:only-of-type {\n",
              "        vertical-align: middle;\n",
              "    }\n",
              "\n",
              "    .dataframe tbody tr th {\n",
              "        vertical-align: top;\n",
              "    }\n",
              "\n",
              "    .dataframe thead th {\n",
              "        text-align: right;\n",
              "    }\n",
              "</style>\n",
              "<table border=\"1\" class=\"dataframe\">\n",
              "  <thead>\n",
              "    <tr style=\"text-align: right;\">\n",
              "      <th></th>\n",
              "      <th>age</th>\n",
              "      <th>default</th>\n",
              "      <th>balance</th>\n",
              "      <th>housing</th>\n",
              "      <th>loan</th>\n",
              "      <th>day</th>\n",
              "      <th>campaign</th>\n",
              "      <th>pdays</th>\n",
              "      <th>previous</th>\n",
              "      <th>y</th>\n",
              "      <th>job_cat</th>\n",
              "      <th>marital_cat</th>\n",
              "      <th>education_cat</th>\n",
              "      <th>contact_cat</th>\n",
              "      <th>month_cat</th>\n",
              "      <th>poutcome_cat</th>\n",
              "    </tr>\n",
              "  </thead>\n",
              "  <tbody>\n",
              "    <tr>\n",
              "      <th>count</th>\n",
              "      <td>40209.000000</td>\n",
              "      <td>40209.000000</td>\n",
              "      <td>40209.000000</td>\n",
              "      <td>40209.000000</td>\n",
              "      <td>40209.000000</td>\n",
              "      <td>40209.000000</td>\n",
              "      <td>40209.000000</td>\n",
              "      <td>40209.000000</td>\n",
              "      <td>40209.000000</td>\n",
              "      <td>40209.000000</td>\n",
              "      <td>40209.000000</td>\n",
              "      <td>40209.000000</td>\n",
              "      <td>40209.000000</td>\n",
              "      <td>40209.000000</td>\n",
              "      <td>40209.000000</td>\n",
              "      <td>40209.000000</td>\n",
              "    </tr>\n",
              "    <tr>\n",
              "      <th>mean</th>\n",
              "      <td>40.659728</td>\n",
              "      <td>0.018727</td>\n",
              "      <td>1083.466189</td>\n",
              "      <td>0.551195</td>\n",
              "      <td>0.164739</td>\n",
              "      <td>15.819792</td>\n",
              "      <td>2.464324</td>\n",
              "      <td>25.184312</td>\n",
              "      <td>0.352632</td>\n",
              "      <td>0.100823</td>\n",
              "      <td>4.350643</td>\n",
              "      <td>1.167201</td>\n",
              "      <td>1.224378</td>\n",
              "      <td>0.668209</td>\n",
              "      <td>5.480440</td>\n",
              "      <td>2.663434</td>\n",
              "    </tr>\n",
              "    <tr>\n",
              "      <th>std</th>\n",
              "      <td>10.086648</td>\n",
              "      <td>0.135561</td>\n",
              "      <td>1722.823814</td>\n",
              "      <td>0.497378</td>\n",
              "      <td>0.370950</td>\n",
              "      <td>8.363663</td>\n",
              "      <td>1.951391</td>\n",
              "      <td>71.762763</td>\n",
              "      <td>1.056890</td>\n",
              "      <td>0.301098</td>\n",
              "      <td>3.287398</td>\n",
              "      <td>0.606596</td>\n",
              "      <td>0.745187</td>\n",
              "      <td>0.912106</td>\n",
              "      <td>2.987875</td>\n",
              "      <td>0.883035</td>\n",
              "    </tr>\n",
              "    <tr>\n",
              "      <th>min</th>\n",
              "      <td>18.000000</td>\n",
              "      <td>0.000000</td>\n",
              "      <td>-6847.000000</td>\n",
              "      <td>0.000000</td>\n",
              "      <td>0.000000</td>\n",
              "      <td>1.000000</td>\n",
              "      <td>1.000000</td>\n",
              "      <td>-1.000000</td>\n",
              "      <td>0.000000</td>\n",
              "      <td>0.000000</td>\n",
              "      <td>0.000000</td>\n",
              "      <td>0.000000</td>\n",
              "      <td>0.000000</td>\n",
              "      <td>0.000000</td>\n",
              "      <td>0.000000</td>\n",
              "      <td>0.000000</td>\n",
              "    </tr>\n",
              "    <tr>\n",
              "      <th>25%</th>\n",
              "      <td>33.000000</td>\n",
              "      <td>0.000000</td>\n",
              "      <td>66.000000</td>\n",
              "      <td>0.000000</td>\n",
              "      <td>0.000000</td>\n",
              "      <td>8.000000</td>\n",
              "      <td>1.000000</td>\n",
              "      <td>-1.000000</td>\n",
              "      <td>0.000000</td>\n",
              "      <td>0.000000</td>\n",
              "      <td>1.000000</td>\n",
              "      <td>1.000000</td>\n",
              "      <td>1.000000</td>\n",
              "      <td>0.000000</td>\n",
              "      <td>3.000000</td>\n",
              "      <td>3.000000</td>\n",
              "    </tr>\n",
              "    <tr>\n",
              "      <th>50%</th>\n",
              "      <td>39.000000</td>\n",
              "      <td>0.000000</td>\n",
              "      <td>430.000000</td>\n",
              "      <td>1.000000</td>\n",
              "      <td>0.000000</td>\n",
              "      <td>16.000000</td>\n",
              "      <td>2.000000</td>\n",
              "      <td>-1.000000</td>\n",
              "      <td>0.000000</td>\n",
              "      <td>0.000000</td>\n",
              "      <td>4.000000</td>\n",
              "      <td>1.000000</td>\n",
              "      <td>1.000000</td>\n",
              "      <td>0.000000</td>\n",
              "      <td>6.000000</td>\n",
              "      <td>3.000000</td>\n",
              "    </tr>\n",
              "    <tr>\n",
              "      <th>75%</th>\n",
              "      <td>48.000000</td>\n",
              "      <td>0.000000</td>\n",
              "      <td>1345.000000</td>\n",
              "      <td>1.000000</td>\n",
              "      <td>0.000000</td>\n",
              "      <td>21.000000</td>\n",
              "      <td>3.000000</td>\n",
              "      <td>-1.000000</td>\n",
              "      <td>0.000000</td>\n",
              "      <td>0.000000</td>\n",
              "      <td>7.000000</td>\n",
              "      <td>2.000000</td>\n",
              "      <td>2.000000</td>\n",
              "      <td>2.000000</td>\n",
              "      <td>8.000000</td>\n",
              "      <td>3.000000</td>\n",
              "    </tr>\n",
              "    <tr>\n",
              "      <th>max</th>\n",
              "      <td>72.000000</td>\n",
              "      <td>1.000000</td>\n",
              "      <td>10483.000000</td>\n",
              "      <td>1.000000</td>\n",
              "      <td>1.000000</td>\n",
              "      <td>31.000000</td>\n",
              "      <td>12.000000</td>\n",
              "      <td>340.000000</td>\n",
              "      <td>7.000000</td>\n",
              "      <td>1.000000</td>\n",
              "      <td>11.000000</td>\n",
              "      <td>2.000000</td>\n",
              "      <td>3.000000</td>\n",
              "      <td>2.000000</td>\n",
              "      <td>11.000000</td>\n",
              "      <td>3.000000</td>\n",
              "    </tr>\n",
              "  </tbody>\n",
              "</table>\n",
              "</div>"
            ],
            "text/plain": [
              "                age       default  ...     month_cat  poutcome_cat\n",
              "count  40209.000000  40209.000000  ...  40209.000000  40209.000000\n",
              "mean      40.659728      0.018727  ...      5.480440      2.663434\n",
              "std       10.086648      0.135561  ...      2.987875      0.883035\n",
              "min       18.000000      0.000000  ...      0.000000      0.000000\n",
              "25%       33.000000      0.000000  ...      3.000000      3.000000\n",
              "50%       39.000000      0.000000  ...      6.000000      3.000000\n",
              "75%       48.000000      0.000000  ...      8.000000      3.000000\n",
              "max       72.000000      1.000000  ...     11.000000      3.000000\n",
              "\n",
              "[8 rows x 16 columns]"
            ]
          },
          "metadata": {
            "tags": []
          },
          "execution_count": 35
        }
      ]
    },
    {
      "cell_type": "markdown",
      "metadata": {
        "id": "aisp0RzXs1TI"
      },
      "source": [
        "**Standardize data**\n",
        "\n",
        " "
      ]
    },
    {
      "cell_type": "code",
      "metadata": {
        "colab": {
          "base_uri": "https://localhost:8080/",
          "height": 439
        },
        "id": "YkfSrNx7r6-M",
        "outputId": "ffc417f4-8071-405a-9b55-bee852859403"
      },
      "source": [
        "\n",
        "\n",
        "data_dup = data.copy()\n",
        "num_columns = ['age','balance','day','campaign','pdays','previous','job_cat','marital_cat','education_cat','contact_cat','month_cat','poutcome_cat']\n",
        "StdScaler = StandardScaler()\n",
        "\n",
        "for i in num_columns:\n",
        "  data_dup[i] = StdScaler.fit_transform(data_dup[[i]])\n",
        "\n",
        "#display standardized data\n",
        "data_dup"
      ],
      "execution_count": 36,
      "outputs": [
        {
          "output_type": "execute_result",
          "data": {
            "text/html": [
              "<div>\n",
              "<style scoped>\n",
              "    .dataframe tbody tr th:only-of-type {\n",
              "        vertical-align: middle;\n",
              "    }\n",
              "\n",
              "    .dataframe tbody tr th {\n",
              "        vertical-align: top;\n",
              "    }\n",
              "\n",
              "    .dataframe thead th {\n",
              "        text-align: right;\n",
              "    }\n",
              "</style>\n",
              "<table border=\"1\" class=\"dataframe\">\n",
              "  <thead>\n",
              "    <tr style=\"text-align: right;\">\n",
              "      <th></th>\n",
              "      <th>age</th>\n",
              "      <th>default</th>\n",
              "      <th>balance</th>\n",
              "      <th>housing</th>\n",
              "      <th>loan</th>\n",
              "      <th>day</th>\n",
              "      <th>campaign</th>\n",
              "      <th>pdays</th>\n",
              "      <th>previous</th>\n",
              "      <th>y</th>\n",
              "      <th>job_cat</th>\n",
              "      <th>marital_cat</th>\n",
              "      <th>education_cat</th>\n",
              "      <th>contact_cat</th>\n",
              "      <th>month_cat</th>\n",
              "      <th>poutcome_cat</th>\n",
              "    </tr>\n",
              "  </thead>\n",
              "  <tbody>\n",
              "    <tr>\n",
              "      <th>0</th>\n",
              "      <td>1.719153</td>\n",
              "      <td>0</td>\n",
              "      <td>0.615006</td>\n",
              "      <td>1</td>\n",
              "      <td>0</td>\n",
              "      <td>-1.293683</td>\n",
              "      <td>-0.750410</td>\n",
              "      <td>-0.364878</td>\n",
              "      <td>-0.333655</td>\n",
              "      <td>0</td>\n",
              "      <td>-0.106664</td>\n",
              "      <td>-0.275642</td>\n",
              "      <td>1.040855</td>\n",
              "      <td>1.460145</td>\n",
              "      <td>0.843272</td>\n",
              "      <td>0.381152</td>\n",
              "    </tr>\n",
              "    <tr>\n",
              "      <th>1</th>\n",
              "      <td>0.331162</td>\n",
              "      <td>0</td>\n",
              "      <td>-0.612065</td>\n",
              "      <td>1</td>\n",
              "      <td>0</td>\n",
              "      <td>-1.293683</td>\n",
              "      <td>-0.750410</td>\n",
              "      <td>-0.364878</td>\n",
              "      <td>-0.333655</td>\n",
              "      <td>0</td>\n",
              "      <td>1.414315</td>\n",
              "      <td>1.372921</td>\n",
              "      <td>-0.301106</td>\n",
              "      <td>1.460145</td>\n",
              "      <td>0.843272</td>\n",
              "      <td>0.381152</td>\n",
              "    </tr>\n",
              "    <tr>\n",
              "      <th>2</th>\n",
              "      <td>-0.759402</td>\n",
              "      <td>0</td>\n",
              "      <td>-0.627737</td>\n",
              "      <td>1</td>\n",
              "      <td>1</td>\n",
              "      <td>-1.293683</td>\n",
              "      <td>-0.750410</td>\n",
              "      <td>-0.364878</td>\n",
              "      <td>-0.333655</td>\n",
              "      <td>0</td>\n",
              "      <td>-0.715056</td>\n",
              "      <td>-0.275642</td>\n",
              "      <td>-0.301106</td>\n",
              "      <td>1.460145</td>\n",
              "      <td>0.843272</td>\n",
              "      <td>0.381152</td>\n",
              "    </tr>\n",
              "    <tr>\n",
              "      <th>3</th>\n",
              "      <td>0.628589</td>\n",
              "      <td>0</td>\n",
              "      <td>0.245260</td>\n",
              "      <td>1</td>\n",
              "      <td>0</td>\n",
              "      <td>-1.293683</td>\n",
              "      <td>-0.750410</td>\n",
              "      <td>-0.364878</td>\n",
              "      <td>-0.333655</td>\n",
              "      <td>0</td>\n",
              "      <td>-1.019251</td>\n",
              "      <td>-0.275642</td>\n",
              "      <td>2.382816</td>\n",
              "      <td>1.460145</td>\n",
              "      <td>0.843272</td>\n",
              "      <td>0.381152</td>\n",
              "    </tr>\n",
              "    <tr>\n",
              "      <th>4</th>\n",
              "      <td>-0.759402</td>\n",
              "      <td>0</td>\n",
              "      <td>-0.628317</td>\n",
              "      <td>0</td>\n",
              "      <td>0</td>\n",
              "      <td>-1.293683</td>\n",
              "      <td>-0.750410</td>\n",
              "      <td>-0.364878</td>\n",
              "      <td>-0.333655</td>\n",
              "      <td>0</td>\n",
              "      <td>2.022706</td>\n",
              "      <td>1.372921</td>\n",
              "      <td>2.382816</td>\n",
              "      <td>1.460145</td>\n",
              "      <td>0.843272</td>\n",
              "      <td>0.381152</td>\n",
              "    </tr>\n",
              "    <tr>\n",
              "      <th>...</th>\n",
              "      <td>...</td>\n",
              "      <td>...</td>\n",
              "      <td>...</td>\n",
              "      <td>...</td>\n",
              "      <td>...</td>\n",
              "      <td>...</td>\n",
              "      <td>...</td>\n",
              "      <td>...</td>\n",
              "      <td>...</td>\n",
              "      <td>...</td>\n",
              "      <td>...</td>\n",
              "      <td>...</td>\n",
              "      <td>...</td>\n",
              "      <td>...</td>\n",
              "      <td>...</td>\n",
              "      <td>...</td>\n",
              "    </tr>\n",
              "    <tr>\n",
              "      <th>45203</th>\n",
              "      <td>-1.750824</td>\n",
              "      <td>0</td>\n",
              "      <td>-0.563307</td>\n",
              "      <td>0</td>\n",
              "      <td>0</td>\n",
              "      <td>0.141113</td>\n",
              "      <td>-0.750410</td>\n",
              "      <td>-0.364878</td>\n",
              "      <td>-0.333655</td>\n",
              "      <td>1</td>\n",
              "      <td>1.110119</td>\n",
              "      <td>1.372921</td>\n",
              "      <td>1.040855</td>\n",
              "      <td>-0.732608</td>\n",
              "      <td>1.177962</td>\n",
              "      <td>0.381152</td>\n",
              "    </tr>\n",
              "    <tr>\n",
              "      <th>45205</th>\n",
              "      <td>-1.552540</td>\n",
              "      <td>0</td>\n",
              "      <td>-0.335770</td>\n",
              "      <td>0</td>\n",
              "      <td>1</td>\n",
              "      <td>0.141113</td>\n",
              "      <td>-0.237948</td>\n",
              "      <td>-0.364878</td>\n",
              "      <td>-0.333655</td>\n",
              "      <td>1</td>\n",
              "      <td>1.414315</td>\n",
              "      <td>1.372921</td>\n",
              "      <td>-0.301106</td>\n",
              "      <td>-0.732608</td>\n",
              "      <td>1.177962</td>\n",
              "      <td>0.381152</td>\n",
              "    </tr>\n",
              "    <tr>\n",
              "      <th>45206</th>\n",
              "      <td>1.025157</td>\n",
              "      <td>0</td>\n",
              "      <td>-0.150027</td>\n",
              "      <td>0</td>\n",
              "      <td>0</td>\n",
              "      <td>0.141113</td>\n",
              "      <td>0.274513</td>\n",
              "      <td>-0.364878</td>\n",
              "      <td>-0.333655</td>\n",
              "      <td>1</td>\n",
              "      <td>1.414315</td>\n",
              "      <td>-0.275642</td>\n",
              "      <td>1.040855</td>\n",
              "      <td>-0.732608</td>\n",
              "      <td>1.177962</td>\n",
              "      <td>0.381152</td>\n",
              "    </tr>\n",
              "    <tr>\n",
              "      <th>45207</th>\n",
              "      <td>3.008001</td>\n",
              "      <td>0</td>\n",
              "      <td>0.374700</td>\n",
              "      <td>0</td>\n",
              "      <td>0</td>\n",
              "      <td>0.141113</td>\n",
              "      <td>-0.237948</td>\n",
              "      <td>-0.364878</td>\n",
              "      <td>-0.333655</td>\n",
              "      <td>1</td>\n",
              "      <td>0.197532</td>\n",
              "      <td>-1.924205</td>\n",
              "      <td>-1.643067</td>\n",
              "      <td>-0.732608</td>\n",
              "      <td>1.177962</td>\n",
              "      <td>0.381152</td>\n",
              "    </tr>\n",
              "    <tr>\n",
              "      <th>45209</th>\n",
              "      <td>1.620011</td>\n",
              "      <td>0</td>\n",
              "      <td>-0.241157</td>\n",
              "      <td>0</td>\n",
              "      <td>0</td>\n",
              "      <td>0.141113</td>\n",
              "      <td>0.786975</td>\n",
              "      <td>-0.364878</td>\n",
              "      <td>-0.333655</td>\n",
              "      <td>0</td>\n",
              "      <td>-1.019251</td>\n",
              "      <td>-0.275642</td>\n",
              "      <td>-0.301106</td>\n",
              "      <td>0.363768</td>\n",
              "      <td>1.177962</td>\n",
              "      <td>0.381152</td>\n",
              "    </tr>\n",
              "  </tbody>\n",
              "</table>\n",
              "<p>40209 rows × 16 columns</p>\n",
              "</div>"
            ],
            "text/plain": [
              "            age  default   balance  ...  contact_cat  month_cat  poutcome_cat\n",
              "0      1.719153        0  0.615006  ...     1.460145   0.843272      0.381152\n",
              "1      0.331162        0 -0.612065  ...     1.460145   0.843272      0.381152\n",
              "2     -0.759402        0 -0.627737  ...     1.460145   0.843272      0.381152\n",
              "3      0.628589        0  0.245260  ...     1.460145   0.843272      0.381152\n",
              "4     -0.759402        0 -0.628317  ...     1.460145   0.843272      0.381152\n",
              "...         ...      ...       ...  ...          ...        ...           ...\n",
              "45203 -1.750824        0 -0.563307  ...    -0.732608   1.177962      0.381152\n",
              "45205 -1.552540        0 -0.335770  ...    -0.732608   1.177962      0.381152\n",
              "45206  1.025157        0 -0.150027  ...    -0.732608   1.177962      0.381152\n",
              "45207  3.008001        0  0.374700  ...    -0.732608   1.177962      0.381152\n",
              "45209  1.620011        0 -0.241157  ...     0.363768   1.177962      0.381152\n",
              "\n",
              "[40209 rows x 16 columns]"
            ]
          },
          "metadata": {
            "tags": []
          },
          "execution_count": 36
        }
      ]
    },
    {
      "cell_type": "code",
      "metadata": {
        "colab": {
          "base_uri": "https://localhost:8080/",
          "height": 881
        },
        "id": "UpskrRROsbN2",
        "outputId": "227ea16d-b92d-40b7-8b49-8c6db2bc30e1"
      },
      "source": [
        "#Visualizing through boxplot diagram\n",
        "\n",
        "fig = plt.figure(figsize=(15,15))\n",
        "\n",
        "col = [data_dup['age'], data_dup['balance'], data_dup['day'],data_dup['campaign'],data_dup['pdays'],data_dup['previous'],data_dup['job_cat'],data_dup['marital_cat'],data_dup['education_cat'],data_dup['contact_cat'],data_dup['month_cat'],data_dup['poutcome_cat']]\n",
        "\n",
        "data_dup.boxplot(num_columns)"
      ],
      "execution_count": 37,
      "outputs": [
        {
          "output_type": "execute_result",
          "data": {
            "text/plain": [
              "<matplotlib.axes._subplots.AxesSubplot at 0x7f97daae77d0>"
            ]
          },
          "metadata": {
            "tags": []
          },
          "execution_count": 37
        },
        {
          "output_type": "display_data",
          "data": {
            "image/png": "[encoded data removed]",
            "text/plain": [
              "<Figure size 1080x1080 with 1 Axes>"
            ]
          },
          "metadata": {
            "tags": [],
            "needs_background": "light"
          }
        }
      ]
    },
    {
      "cell_type": "markdown",
      "metadata": {
        "id": "kHcckdythwP7"
      },
      "source": [
        "**Feature engineering**\n",
        "\n",
        " "
      ]
    },
    {
      "cell_type": "code",
      "metadata": {
        "id": "J8BYYfN2g5Ah",
        "colab": {
          "base_uri": "https://localhost:8080/"
        },
        "outputId": "dd145d48-6370-40ee-99d8-6c536a51f845"
      },
      "source": [
        "\n",
        "\n",
        "features_for_pca= data_dup.drop('y',axis=1)\n",
        "pca = PCA(n_components=10)\n",
        "pca.fit(features_for_pca)\n",
        "ratio_sum = pca.explained_variance_ratio_.cumsum()\n",
        "ratio_sum"
      ],
      "execution_count": 38,
      "outputs": [
        {
          "output_type": "execute_result",
          "data": {
            "text/plain": [
              "array([0.21898875, 0.34280525, 0.45807493, 0.54630495, 0.63290916,\n",
              "       0.70968507, 0.77951281, 0.84598027, 0.8937937 , 0.93739093])"
            ]
          },
          "metadata": {
            "tags": []
          },
          "execution_count": 38
        }
      ]
    },
    {
      "cell_type": "markdown",
      "metadata": {
        "id": "Q31q8tXXpXdL"
      },
      "source": [
        "**Applying Multi Layer Perceptron**"
      ]
    },
    {
      "cell_type": "code",
      "metadata": {
        "id": "aUnnM5yKi4H5"
      },
      "source": [
        "labels = data_dup['y']\n",
        "features = data_dup.drop('y', axis=1)"
      ],
      "execution_count": 39,
      "outputs": []
    },
    {
      "cell_type": "code",
      "metadata": {
        "id": "XDNAZZ-bqV-I"
      },
      "source": [
        "\n",
        "x_train, x_test, y_train, y_test = train_test_split(features, labels, test_size=0.2)\n"
      ],
      "execution_count": 40,
      "outputs": []
    },
    {
      "cell_type": "code",
      "metadata": {
        "colab": {
          "base_uri": "https://localhost:8080/"
        },
        "id": "Z2IXt8XBqXtx",
        "outputId": "72c99f00-b682-44f2-ddcc-de4a250d65b9"
      },
      "source": [
        "MLPClassifier = MLPClassifier(hidden_layer_sizes=(50,200,50), activation='relu',max_iter=300,solver='adam', random_state=1)\n",
        "MLPClassifier.fit(x_train,y_train)"
      ],
      "execution_count": 41,
      "outputs": [
        {
          "output_type": "execute_result",
          "data": {
            "text/plain": [
              "MLPClassifier(activation='relu', alpha=0.0001, batch_size='auto', beta_1=0.9,\n",
              "              beta_2=0.999, early_stopping=False, epsilon=1e-08,\n",
              "              hidden_layer_sizes=(50, 200, 50), learning_rate='constant',\n",
              "              learning_rate_init=0.001, max_fun=15000, max_iter=300,\n",
              "              momentum=0.9, n_iter_no_change=10, nesterovs_momentum=True,\n",
              "              power_t=0.5, random_state=1, shuffle=True, solver='adam',\n",
              "              tol=0.0001, validation_fraction=0.1, verbose=False,\n",
              "              warm_start=False)"
            ]
          },
          "metadata": {
            "tags": []
          },
          "execution_count": 41
        }
      ]
    },
    {
      "cell_type": "code",
      "metadata": {
        "colab": {
          "base_uri": "https://localhost:8080/"
        },
        "id": "s6F1_AY5sZJ7",
        "outputId": "724341f0-bd05-4ea6-b5d1-6d5f32c677f9"
      },
      "source": [
        "train_prediction = MLPClassifier.predict(x_train)\n",
        "test_prediction = MLPClassifier.predict(x_test)\n",
        "print('Accuracy on training data:',+metrics.accuracy_score(y_train,train_prediction))\n",
        "print('Accuracy on test data:', +metrics.accuracy_score(y_test,test_prediction))\n"
      ],
      "execution_count": 42,
      "outputs": [
        {
          "output_type": "stream",
          "text": [
            "Accuracy on training data: 0.9898964777567072\n",
            "Accuracy on test data: 0.8648346182541656\n"
          ],
          "name": "stdout"
        }
      ]
    },
    {
      "cell_type": "code",
      "metadata": {
        "id": "of6hqI-Ru8PV"
      },
      "source": [
        ""
      ],
      "execution_count": 42,
      "outputs": []
    }
  ]
}